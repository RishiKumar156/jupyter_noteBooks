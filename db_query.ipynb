{
 "cells": [
  {
   "cell_type": "code",
   "execution_count": null,
   "metadata": {},
   "outputs": [],
   "source": [
    "import pandas as pd\n",
    "from sqlalchemy import create_engine\n",
    "\n",
    "# Example for MySQL database on localhost\n",
    "# Replace 'your_username', 'your_password', 'your_database_name', and 'your_port' with your actual database credentials\n",
    "database_url = \"mysql+mysqlconnector://root:@localhost:3306/analystics_db\"\n",
    "engine = create_engine(database_url)\n",
    "# Example query to fetch all data from a table\n",
    "query = \"SELECT * FROM employeedemographics\"\n",
    "df = pd.read_sql(query, engine)\n"
   ]
  }
 ],
 "metadata": {
  "language_info": {
   "name": "python"
  }
 },
 "nbformat": 4,
 "nbformat_minor": 2
}
