{
 "cells": [
  {
   "cell_type": "code",
   "execution_count": 1,
   "metadata": {},
   "outputs": [],
   "source": [
    "import pandas as pd\n",
    "from sqlalchemy import create_engine\n",
    "\n",
    "# Replace these with your MySQL connection details\n",
    "db_username = 'root'\n",
    "db_password = ''\n",
    "db_host = 'localhost'\n",
    "db_name = 'analystics_db'\n",
    "\n",
    "# Path to your CSV file\n",
    "csv_file_path = 'BooksDataset.csv'\n",
    "# Read CSV file into a pandas DataFrame\n",
    "df = pd.read_csv(csv_file_path)\n",
    "# Create a MySQL database connection\n",
    "engine = \"mysql+mysqlconnector://root:@localhost:3306/analystics_db\"\n",
    "try:\n",
    "    # Use the to_sql function to write the DataFrame to MySQL\n",
    "    # If the table already exists, it will be replaced\n",
    "    # df.to_sql(name='analystics_db', con=engine, if_exists='replace', index=False)\n",
    "    df.to_sql(name='analystics_db', con=engine, if_exists='replace', index=False, method='multi')\n",
    "finally:\n",
    "    # Rollback any pending transactions\n",
    "    engine.dispose()\n"
   ]
  },
  {
   "cell_type": "code",
   "execution_count": null,
   "metadata": {},
   "outputs": [],
   "source": []
  }
 ],
 "metadata": {
  "kernelspec": {
   "display_name": "Python 3",
   "language": "python",
   "name": "python3"
  },
  "language_info": {
   "codemirror_mode": {
    "name": "ipython",
    "version": 3
   },
   "file_extension": ".py",
   "mimetype": "text/x-python",
   "name": "python",
   "nbconvert_exporter": "python",
   "pygments_lexer": "ipython3",
   "version": "3.12.1"
  }
 },
 "nbformat": 4,
 "nbformat_minor": 2
}
