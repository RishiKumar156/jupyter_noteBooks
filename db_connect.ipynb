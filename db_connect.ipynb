{
 "cells": [
  {
   "cell_type": "code",
   "execution_count": null,
   "metadata": {},
   "outputs": [],
   "source": [
    "import pandas as pd \n",
    "from sqlalchemy import create_engine\n",
    "\n",
    "db_username = \"rishik\"\n",
    "db_password = \"@Sagpenty1\"\n",
    "db_host = \"3306\"\n",
    "db_name = \"analystics_db\"\n",
    "\n",
    "df = pd.read_csv(\"BooksDataset.csv\")\n",
    "\n",
    "engine = create_engine(f'mysql+mysqlconnector://{db_username}:{db_password}@{db_host}/{db_name}')\n",
    "\n",
    "# Use the to_sql function to write the DataFrame to MySQL\n",
    "# If the table already exists, it will be replaced\n",
    "df.to_sql(name='analystics_db', con=engine, if_exists='replace', index=False)\n",
    "\n",
    "# Commit the changes\n",
    "engine.dispose()"
   ]
  }
 ],
 "metadata": {
  "language_info": {
   "name": "python"
  }
 },
 "nbformat": 4,
 "nbformat_minor": 2
}
